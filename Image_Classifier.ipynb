{
  "nbformat": 4,
  "nbformat_minor": 0,
  "metadata": {
    "colab": {
      "provenance": [],
      "authorship_tag": "ABX9TyNOqMG1PzT3N2PUWEyyRYn7",
      "include_colab_link": true
    },
    "kernelspec": {
      "name": "python3",
      "display_name": "Python 3"
    },
    "language_info": {
      "name": "python"
    }
  },
  "cells": [
    {
      "cell_type": "markdown",
      "metadata": {
        "id": "view-in-github",
        "colab_type": "text"
      },
      "source": [
        "<a href=\"https://colab.research.google.com/github/faizanMayo786/Image_Classifier/blob/main/Image_Classifier.ipynb\" target=\"_parent\"><img src=\"https://colab.research.google.com/assets/colab-badge.svg\" alt=\"Open In Colab\"/></a>"
      ]
    },
    {
      "cell_type": "code",
      "execution_count": null,
      "metadata": {
        "id": "z8jrovpuDQus"
      },
      "outputs": [],
      "source": [
        "import tensorflow as tf\n",
        "from tensorflow.keras import datasets, layers, models\n",
        "import matplotlib.pyplot as plt"
      ]
    },
    {
      "cell_type": "code",
      "source": [
        "# Load and preprocess the CIFAR-10 dataset\n",
        "(train_images, train_labels), (test_images, test_labels) = datasets.cifar10.load_data()\n",
        "train_images, test_images = train_images / 255.0, test_images / 255.0"
      ],
      "metadata": {
        "colab": {
          "base_uri": "https://localhost:8080/"
        },
        "id": "7keqQruPDaEn",
        "outputId": "8f86cf15-8f8e-4af4-b408-c5cdc99aa11b"
      },
      "execution_count": null,
      "outputs": [
        {
          "output_type": "stream",
          "name": "stdout",
          "text": [
            "Downloading data from https://www.cs.toronto.edu/~kriz/cifar-10-python.tar.gz\n",
            "170498071/170498071 [==============================] - 27s 0us/step\n"
          ]
        }
      ]
    },
    {
      "cell_type": "code",
      "source": [
        "\n",
        "# Define the CNN model\n",
        "model = models.Sequential([\n",
        "    layers.Conv2D(32, (3, 3), activation='relu', input_shape=(32, 32, 3)),\n",
        "    layers.MaxPooling2D((2, 2)),\n",
        "    layers.Conv2D(64, (3, 3), activation='relu'),\n",
        "    layers.MaxPooling2D((2, 2)),\n",
        "    layers.Flatten(),\n",
        "    layers.Dense(128, activation='relu'),\n",
        "    layers.Dense(10, activation='softmax')\n",
        "])\n",
        "print(model)"
      ],
      "metadata": {
        "colab": {
          "base_uri": "https://localhost:8080/"
        },
        "id": "iUwcEbuPDgWA",
        "outputId": "cea2b8cd-cea2-4fa6-e705-0783b6edee02"
      },
      "execution_count": null,
      "outputs": [
        {
          "output_type": "stream",
          "name": "stdout",
          "text": [
            "<keras.src.engine.sequential.Sequential object at 0x7b0330c4d840>\n"
          ]
        }
      ]
    },
    {
      "cell_type": "code",
      "source": [
        "# Compile the model\n",
        "model.compile(optimizer='adam',\n",
        "              loss='sparse_categorical_crossentropy',\n",
        "              metrics=['accuracy'])\n"
      ],
      "metadata": {
        "id": "qaJJz9nIDoV0"
      },
      "execution_count": null,
      "outputs": []
    },
    {
      "cell_type": "code",
      "source": [
        "# Train the model\n",
        "history = model.fit(train_images, train_labels, epochs=10,\n",
        "                    validation_data=(test_images, test_labels))\n"
      ],
      "metadata": {
        "colab": {
          "base_uri": "https://localhost:8080/"
        },
        "id": "opCkfN0hDtSG",
        "outputId": "5a124eee-b8d5-4856-f1a0-476e4258c135"
      },
      "execution_count": null,
      "outputs": [
        {
          "output_type": "stream",
          "name": "stdout",
          "text": [
            "Epoch 1/10\n",
            "1563/1563 [==============================] - 44s 28ms/step - loss: 1.4413 - accuracy: 0.4825 - val_loss: 1.1886 - val_accuracy: 0.5825\n",
            "Epoch 2/10\n",
            "1563/1563 [==============================] - 42s 27ms/step - loss: 1.0826 - accuracy: 0.6179 - val_loss: 1.0084 - val_accuracy: 0.6450\n",
            "Epoch 3/10\n",
            "1563/1563 [==============================] - 43s 27ms/step - loss: 0.9261 - accuracy: 0.6778 - val_loss: 1.0022 - val_accuracy: 0.6576\n",
            "Epoch 4/10\n",
            "1563/1563 [==============================] - 42s 27ms/step - loss: 0.8207 - accuracy: 0.7137 - val_loss: 0.9090 - val_accuracy: 0.6889\n",
            "Epoch 5/10\n",
            "1563/1563 [==============================] - 42s 27ms/step - loss: 0.7372 - accuracy: 0.7432 - val_loss: 0.9152 - val_accuracy: 0.6867\n",
            "Epoch 6/10\n",
            "1563/1563 [==============================] - 41s 27ms/step - loss: 0.6623 - accuracy: 0.7687 - val_loss: 0.9214 - val_accuracy: 0.6928\n",
            "Epoch 7/10\n",
            "1563/1563 [==============================] - 41s 26ms/step - loss: 0.5935 - accuracy: 0.7915 - val_loss: 0.8936 - val_accuracy: 0.7040\n",
            "Epoch 8/10\n",
            "1563/1563 [==============================] - 40s 25ms/step - loss: 0.5296 - accuracy: 0.8131 - val_loss: 0.9259 - val_accuracy: 0.7045\n",
            "Epoch 9/10\n",
            "1563/1563 [==============================] - 40s 26ms/step - loss: 0.4719 - accuracy: 0.8348 - val_loss: 0.9771 - val_accuracy: 0.7053\n",
            "Epoch 10/10\n",
            "1563/1563 [==============================] - 41s 26ms/step - loss: 0.4156 - accuracy: 0.8544 - val_loss: 1.0541 - val_accuracy: 0.7019\n"
          ]
        }
      ]
    },
    {
      "cell_type": "code",
      "source": [
        "# Evaluate the model\n",
        "test_loss, test_acc = model.evaluate(test_images, test_labels, verbose=2)\n",
        "print(f'Test accuracy: {test_acc}')\n"
      ],
      "metadata": {
        "colab": {
          "base_uri": "https://localhost:8080/"
        },
        "id": "7m_l9orAD2fy",
        "outputId": "048e33c6-f733-471a-ffed-281e31d91f48"
      },
      "execution_count": null,
      "outputs": [
        {
          "output_type": "stream",
          "name": "stdout",
          "text": [
            "313/313 - 2s - loss: 1.0541 - accuracy: 0.7019 - 2s/epoch - 8ms/step\n",
            "Test accuracy: 0.7019000053405762\n"
          ]
        }
      ]
    },
    {
      "cell_type": "code",
      "source": [
        "# Plot training history\n",
        "plt.plot(history.history['accuracy'], label='accuracy')\n",
        "plt.plot(history.history['val_accuracy'], label='val_accuracy')\n",
        "plt.xlabel('Epoch')\n",
        "plt.ylabel('Accuracy')\n",
        "plt.ylim([0, 1])\n",
        "plt.legend(loc='lower right')\n",
        "plt.show()"
      ],
      "metadata": {
        "colab": {
          "base_uri": "https://localhost:8080/",
          "height": 455
        },
        "id": "6kIjER0KFmz9",
        "outputId": "a59d6f93-a2cc-475d-9be1-5a13bc7afa77"
      },
      "execution_count": null,
      "outputs": [
        {
          "output_type": "display_data",
          "data": {
            "text/plain": [
              "<Figure size 640x480 with 1 Axes>"
            ],
            "image/png": "[encoded data removed]"
          },
          "metadata": {}
        }
      ]
    },
    {
      "cell_type": "code",
      "source": [
        "# Save the trained model\n",
        "model.save('my_model.keras')\n"
      ],
      "metadata": {
        "id": "JvjjQQe2Gh2_"
      },
      "execution_count": null,
      "outputs": []
    },
    {
      "cell_type": "markdown",
      "source": [
        "## Using the Above Model in program\n"
      ],
      "metadata": {
        "id": "y7fQfrlrGr5U"
      }
    },
    {
      "cell_type": "code",
      "source": [
        "import tensorflow as tf\n",
        "import numpy as np\n",
        "from tensorflow.keras.preprocessing import image\n",
        "import requests\n",
        "\n",
        "# Load the saved model\n",
        "loaded_model = tf.keras.models.load_model('my_model.keras')\n"
      ],
      "metadata": {
        "id": "yOSlqplZGxKY"
      },
      "execution_count": null,
      "outputs": []
    },
    {
      "cell_type": "code",
      "source": [
        "# URL of the network image\n",
        "image_url = 'https://res.cloudinary.com/yourmechanic/image/upload/dpr_auto,f_auto,q_auto/v1/article_images/1_How_to_Gift_a_Vehicle_a_car_with_a_bow_on_it'\n",
        "\n",
        "# Send an HTTP GET request to the image URL\n",
        "response = requests.get(image_url)\n",
        "\n",
        "# Check if the request was successful (HTTP status code 200)\n",
        "if response.status_code == 200:\n",
        "    # Save the image to a file\n",
        "    with open('downloaded_image.jpg', 'wb') as file:\n",
        "        file.write(response.content)\n",
        "else:\n",
        "    print('Failed to download the image')"
      ],
      "metadata": {
        "id": "QPWOTvjwH0xY"
      },
      "execution_count": null,
      "outputs": []
    },
    {
      "cell_type": "code",
      "source": [
        "# Preprocess a custom input image (similar to the previous example)\n",
        "custom_image_path = 'downloaded_image.jpg'  # Replace with the path to your image\n",
        "custom_image = image.load_img(custom_image_path, target_size=(32, 32))\n",
        "custom_image = image.img_to_array(custom_image)\n",
        "custom_image = np.expand_dims(custom_image, axis=0)\n",
        "custom_image = custom_image / 255.0  # Normalize pixel values\n"
      ],
      "metadata": {
        "id": "Gk9CVq-nG7-j"
      },
      "execution_count": null,
      "outputs": []
    },
    {
      "cell_type": "code",
      "source": [
        "# Define the class labels mapping\n",
        "class_labels = {\n",
        "    0: 'airplane',\n",
        "    1: 'automobile',\n",
        "    2: 'bird',\n",
        "    3: 'cat',\n",
        "    4: 'deer',\n",
        "    5: 'dog',\n",
        "    6: 'frog',\n",
        "    7: 'horse',\n",
        "    8: 'ship',\n",
        "    9: 'truck'\n",
        "}\n",
        "\n",
        "# Use the loaded image for predictions\n",
        "predictions = model.predict(custom_image)\n",
        "\n",
        "# Get the predicted class index\n",
        "predicted_class_index = np.argmax(predictions)\n",
        "\n",
        "# Map the class index to a human-readable label\n",
        "predicted_class_label = class_labels[predicted_class_index]\n",
        "\n",
        "# Display the human-readable label\n",
        "print(f'Predicted class: {predicted_class_label}')"
      ],
      "metadata": {
        "colab": {
          "base_uri": "https://localhost:8080/"
        },
        "id": "QuUyMw6DIElu",
        "outputId": "dbfddca3-74ad-44db-c763-63287dd688e7"
      },
      "execution_count": null,
      "outputs": [
        {
          "output_type": "stream",
          "name": "stdout",
          "text": [
            "1/1 [==============================] - 0s 18ms/step\n",
            "Predicted class: automobile\n"
          ]
        }
      ]
    }
  ]
}